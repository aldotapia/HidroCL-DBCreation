{
 "cells": [
  {
   "cell_type": "code",
   "execution_count": null,
   "id": "1c0cc6fe-1426-467e-b0d6-9cefa08d3bc3",
   "metadata": {},
   "outputs": [],
   "source": [
    "import ee\n",
    "import os\n",
    "import datetime\n",
    "import pandas as pd\n",
    "import geopandas as gpd\n",
    "import collections"
   ]
  },
  {
   "cell_type": "code",
   "execution_count": null,
   "id": "e818bb79-1835-47a3-a628-b0c0cc8afd6e",
   "metadata": {},
   "outputs": [],
   "source": [
    "ee.Authenticate()"
   ]
  },
  {
   "cell_type": "code",
   "execution_count": null,
   "id": "03449adc-76cc-4e26-8f60-a34d8cad313f",
   "metadata": {},
   "outputs": [],
   "source": [
    "collections.Callable = collections.abc.Callable # for make this stuff works in python 3.10\n",
    "ee.Initialize()"
   ]
  },
  {
   "cell_type": "code",
   "execution_count": null,
   "id": "d7a4dc24-c967-4735-b37f-f4de729966b6",
   "metadata": {},
   "outputs": [],
   "source": [
    "# reducers\n",
    "reducers = ee.Reducer.mean().combine(reducer2 = ee.Reducer.percentile([10,25,50,75,90]), sharedInputs = True)"
   ]
  },
  {
   "cell_type": "code",
   "execution_count": null,
   "id": "d6432983-8794-4fec-bebd-7844f8d727ba",
   "metadata": {},
   "outputs": [],
   "source": [
    "# layers\n",
    "soc = ee.Image(\"projects/soilgrids-isric/soc_mean\") # soil organic carbon content\n",
    "bdod = ee.Image(\"projects/soilgrids-isric/bdod_mean\") # bulk density\n",
    "cfvo = ee.Image(\"projects/soilgrids-isric/cfvo_mean\") # coarse fragments content\n",
    "sand = ee.Image(\"projects/soilgrids-isric/sand_mean\") # sand content\n",
    "silt = ee.Image(\"projects/soilgrids-isric/silt_mean\") # silt content\n",
    "clay = ee.Image(\"projects/soilgrids-isric/clay_mean\") # clay content\n",
    "catchments = ee.FeatureCollection(\"users/aldo_tapia/hidrocl\")"
   ]
  },
  {
   "cell_type": "code",
   "execution_count": null,
   "id": "7cca462d-54f4-4bac-a5f2-10acaf8f3789",
   "metadata": {},
   "outputs": [],
   "source": [
    "# bulk density extract\n",
    "socValues = soc.reduceRegions(\n",
    "    collection = catchments,\n",
    "    reducer = reducers,\n",
    "    scale = 250,\n",
    "    crs = 'EPSG:3395',\n",
    ")\n",
    "\n",
    "# convert to GEOJSON\n",
    "socValues = socValues.getInfo()\n",
    "\n",
    "# convert GEOJSON to geopandas\n",
    "gdf_socValues = gpd.GeoDataFrame.from_features(socValues[\"features\"])\n",
    "\n",
    "# convert geopandas to pandas\n",
    "df_socValues = pd.DataFrame(gdf_socValues.drop(columns='geometry'))\n",
    "\n",
    "# select double precision columns\n",
    "float_col = df_socValues.select_dtypes(include=['float64'])\n",
    "# iterate for converting from float to int\n",
    "for col in float_col.columns.values:\n",
    "    df_socValues[col] = df_socValues[col].astype('int64')"
   ]
  },
  {
   "cell_type": "code",
   "execution_count": null,
   "id": "3adfe2bc-986a-40d4-b609-1867e47bcce5",
   "metadata": {},
   "outputs": [],
   "source": [
    "df_socValues.to_csv(f'path/to/SoilOrganicCarbonContent.csv')"
   ]
  },
  {
   "cell_type": "code",
   "execution_count": null,
   "id": "c2403ac3-0d62-49d7-9464-8b7cdaf8e394",
   "metadata": {},
   "outputs": [],
   "source": [
    "# bulk density extract\n",
    "bdodValues = bdod.reduceRegions(\n",
    "    collection = catchments,\n",
    "    reducer = reducers,\n",
    "    scale = 250,\n",
    "    crs = 'EPSG:3395',\n",
    ")\n",
    "\n",
    "# convert to GEOJSON\n",
    "bdodValues = bdodValues.getInfo()\n",
    "\n",
    "# convert GEOJSON to geopandas\n",
    "gdf_bdodValues = gpd.GeoDataFrame.from_features(bdodValues[\"features\"])\n",
    "\n",
    "# convert geopandas to pandas\n",
    "df_bdodValues = pd.DataFrame(gdf_bdodValues.drop(columns='geometry'))\n",
    "\n",
    "# select double precision columns\n",
    "float_col = df_bdodValues.select_dtypes(include=['float64'])\n",
    "# iterate for converting from float to int\n",
    "for col in float_col.columns.values:\n",
    "    df_bdodValues[col] = df_bdodValues[col].astype('int64')"
   ]
  },
  {
   "cell_type": "code",
   "execution_count": null,
   "id": "b83c2597-f073-40e5-8436-9517356b54d2",
   "metadata": {},
   "outputs": [],
   "source": [
    "df_bdodValues.to_csv(f'path/to/BulkDensity.csv')"
   ]
  },
  {
   "cell_type": "code",
   "execution_count": null,
   "id": "9f156ba0-63a2-44ab-baba-9f1ac733f9a7",
   "metadata": {},
   "outputs": [],
   "source": [
    "# bulk density extract\n",
    "cfvoValues = cfvo.reduceRegions(\n",
    "    collection = catchments,\n",
    "    reducer = reducers,\n",
    "    scale = 250,\n",
    "    crs = 'EPSG:3395',\n",
    ")\n",
    "\n",
    "# convert to GEOJSON\n",
    "cfvoValues = cfvoValues.getInfo()\n",
    "\n",
    "# convert GEOJSON to geopandas\n",
    "gdf_cfvoValues = gpd.GeoDataFrame.from_features(cfvoValues[\"features\"])\n",
    "\n",
    "# convert geopandas to pandas\n",
    "df_cfvoValues = pd.DataFrame(gdf_cfvoValues.drop(columns='geometry'))\n",
    "\n",
    "# select double precision columns\n",
    "float_col = df_cfvoValues.select_dtypes(include=['float64'])\n",
    "# iterate for converting from float to int\n",
    "for col in float_col.columns.values:\n",
    "    df_cfvoValues[col] = df_cfvoValues[col].astype('int64')"
   ]
  },
  {
   "cell_type": "code",
   "execution_count": null,
   "id": "e3f5c16b-3dc8-4a26-aa9a-5e6038f88d46",
   "metadata": {},
   "outputs": [],
   "source": [
    "df_cfvoValues.to_csv(f'path/to/CoarseFragmentsContent.csv')"
   ]
  },
  {
   "cell_type": "code",
   "execution_count": null,
   "id": "4e4d1eb5-70b3-4da0-8629-909b26269795",
   "metadata": {},
   "outputs": [],
   "source": [
    "# bulk density extract\n",
    "sandValues = sand.reduceRegions(\n",
    "    collection = catchments,\n",
    "    reducer = reducers,\n",
    "    scale = 250,\n",
    "    crs = 'EPSG:3395',\n",
    ")\n",
    "\n",
    "# convert to GEOJSON\n",
    "sandValues = sandValues.getInfo()\n",
    "\n",
    "# convert GEOJSON to geopandas\n",
    "gdf_sandValues = gpd.GeoDataFrame.from_features(sandValues[\"features\"])\n",
    "\n",
    "# convert geopandas to pandas\n",
    "df_sandValues = pd.DataFrame(gdf_sandValues.drop(columns='geometry'))\n",
    "\n",
    "# select double precision columns\n",
    "float_col = df_sandValues.select_dtypes(include=['float64'])\n",
    "# iterate for converting from float to int\n",
    "for col in float_col.columns.values:\n",
    "    df_sandValues[col] = df_sandValues[col].astype('int64')"
   ]
  },
  {
   "cell_type": "code",
   "execution_count": null,
   "id": "0ba25115-3670-405a-8aeb-82838abf72fb",
   "metadata": {},
   "outputs": [],
   "source": [
    "df_sandValues.to_csv(f'path/to/SandContent.csv')"
   ]
  },
  {
   "cell_type": "code",
   "execution_count": null,
   "id": "9e0fbab1-c4e8-46d1-b5c4-ea2507d5efc5",
   "metadata": {},
   "outputs": [],
   "source": [
    "# bulk density extract\n",
    "siltValues = silt.reduceRegions(\n",
    "    collection = catchments,\n",
    "    reducer = reducers,\n",
    "    scale = 250,\n",
    "    crs = 'EPSG:3395',\n",
    ")\n",
    "\n",
    "# convert to GEOJSON\n",
    "siltValues = siltValues.getInfo()\n",
    "\n",
    "# convert GEOJSON to geopandas\n",
    "gdf_siltValues = gpd.GeoDataFrame.from_features(siltValues[\"features\"])\n",
    "\n",
    "# convert geopandas to pandas\n",
    "df_siltValues = pd.DataFrame(gdf_siltValues.drop(columns='geometry'))\n",
    "\n",
    "# select double precision columns\n",
    "float_col = df_siltValues.select_dtypes(include=['float64'])\n",
    "# iterate for converting from float to int\n",
    "for col in float_col.columns.values:\n",
    "    df_siltValues[col] = df_siltValues[col].astype('int64')"
   ]
  },
  {
   "cell_type": "code",
   "execution_count": null,
   "id": "bc166d8e-cc43-43b6-aa33-a5c5145a62dd",
   "metadata": {},
   "outputs": [],
   "source": [
    "df_siltValues.to_csv(f'path/to/SiltContent.csv')"
   ]
  },
  {
   "cell_type": "code",
   "execution_count": null,
   "id": "e707b54d-2472-465c-af8d-8bac69d126c2",
   "metadata": {},
   "outputs": [],
   "source": [
    "# bulk density extract\n",
    "clayValues = clay.reduceRegions(\n",
    "    collection = catchments,\n",
    "    reducer = reducers,\n",
    "    scale = 250,\n",
    "    crs = 'EPSG:3395',\n",
    ")\n",
    "\n",
    "# convert to GEOJSON\n",
    "clayValues = clayValues.getInfo()\n",
    "\n",
    "# convert GEOJSON to geopandas\n",
    "gdf_clayValues = gpd.GeoDataFrame.from_features(clayValues[\"features\"])\n",
    "\n",
    "# convert geopandas to pandas\n",
    "df_clayValues = pd.DataFrame(gdf_clayValues.drop(columns='geometry'))\n",
    "\n",
    "# select double precision columns\n",
    "float_col = df_clayValues.select_dtypes(include=['float64'])\n",
    "# iterate for converting from float to int\n",
    "for col in float_col.columns.values:\n",
    "    df_clayValues[col] = df_clayValues[col].astype('int64')"
   ]
  },
  {
   "cell_type": "code",
   "execution_count": null,
   "id": "f19d9809-491b-4ab7-8899-9083aaff465d",
   "metadata": {},
   "outputs": [],
   "source": [
    "df_clayValues.to_csv(f'path/to/ClayContent.csv')"
   ]
  }
 ],
 "metadata": {
  "kernelspec": {
   "display_name": "Python 3 (ipykernel)",
   "language": "python",
   "name": "python3"
  },
  "language_info": {
   "codemirror_mode": {
    "name": "ipython",
    "version": 3
   },
   "file_extension": ".py",
   "mimetype": "text/x-python",
   "name": "python",
   "nbconvert_exporter": "python",
   "pygments_lexer": "ipython3",
   "version": "3.10.4"
  }
 },
 "nbformat": 4,
 "nbformat_minor": 5
}
