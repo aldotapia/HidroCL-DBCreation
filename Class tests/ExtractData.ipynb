{
 "cells": [
  {
   "cell_type": "markdown",
   "id": "f20c64e1-81f1-4145-8dd1-fe925f10e2ca",
   "metadata": {},
   "source": [
    "# Example of data extraction"
   ]
  },
  {
   "cell_type": "markdown",
   "id": "fd971cdc-dc90-47b8-9e76-d3e7455cc150",
   "metadata": {},
   "source": [
    "Usage example of extracting data using `mod13q1extractor`.  For this product, it's necessary to load NDVI, EVI and NBR variables with `HidroCLVariable` function. This example only takes two dates from an empty database, so it's create it with `catchment_names` list (names of HidroCL catchments for the study).\n",
    "\n",
    "The first step is importing modules:"
   ]
  },
  {
   "cell_type": "code",
   "execution_count": 1,
   "id": "037573fd-6066-4d71-8ddc-b65927b6baf3",
   "metadata": {},
   "outputs": [],
   "source": [
    "import hidrocl_paths as hcl\n",
    "from hidroclabc import HidroCLVariable, mod13q1extractor"
   ]
  },
  {
   "cell_type": "markdown",
   "id": "c5851c56-b927-4483-9448-20aa9a1c4f8f",
   "metadata": {},
   "source": [
    "Then, create NDVI, EVI and NBR variables. For each variable, we assing the catchment names, then create the database using the names as columns name with the form: File ID, Date, catchment names."
   ]
  },
  {
   "cell_type": "code",
   "execution_count": 2,
   "id": "b2e59883-1516-4c18-a7c3-753d534b76a8",
   "metadata": {},
   "outputs": [
    {
     "name": "stdout",
     "output_type": "stream",
     "text": [
      "Database found, using /Users/aldotapia/camels_test/MOD13Q1/veg_o_modis_ndvi_mean_b_d16_p0d.csv\n",
      "Observations and catchment names added!\n",
      "Catchment names already added!\n",
      "Database found, using /Users/aldotapia/camels_test/MOD13Q1/veg_o_modis_ndvi_mean_b_d16_p0d.csv\n",
      "Observations and catchment names added!\n",
      "Database found, using /Users/aldotapia/camels_test/MOD13Q1/veg_o_modis_evi_mean_b_d16_p0d.csv\n",
      "Observations and catchment names added!\n",
      "Catchment names already added!\n",
      "Database found, using /Users/aldotapia/camels_test/MOD13Q1/veg_o_modis_evi_mean_b_d16_p0d.csv\n",
      "Observations and catchment names added!\n",
      "Database found, using /Users/aldotapia/camels_test/MOD13Q1/veg_o_int_nbr_mean_b_d16_p0d.csv\n",
      "Observations and catchment names added!\n",
      "Catchment names already added!\n",
      "Database found, using /Users/aldotapia/camels_test/MOD13Q1/veg_o_int_nbr_mean_b_d16_p0d.csv\n",
      "Observations and catchment names added!\n"
     ]
    }
   ],
   "source": [
    "ndvi = HidroCLVariable('ndvi', hcl.veg_o_modis_ndvi_mean_b_d16_p0d)\n",
    "ndvi.add_catchment_names(hcl.catchment_names)\n",
    "ndvi.checkdatabase()\n",
    "\n",
    "evi = HidroCLVariable('evi_temporal', hcl.veg_o_modis_evi_mean_b_d16_p0d)\n",
    "evi.add_catchment_names(hcl.catchment_names)\n",
    "evi.checkdatabase()\n",
    "\n",
    "nbr = HidroCLVariable('nbr_temporal', hcl.veg_o_int_nbr_mean_b_d16_p0d)\n",
    "nbr.add_catchment_names(hcl.catchment_names)\n",
    "nbr.checkdatabase()"
   ]
  },
  {
   "cell_type": "markdown",
   "id": "d150d2d3-640b-41c4-96c1-92adb031aef8",
   "metadata": {},
   "source": [
    "After creating the databases, each variable is load creating a `mod13q1extractor`. It's really important to place each variable in the correct order. For class definition infor type `help(mod13q1extractor)`:"
   ]
  },
  {
   "cell_type": "code",
   "execution_count": 3,
   "id": "8dc30c58-820a-4f3e-a0e0-3445cdc42b75",
   "metadata": {},
   "outputs": [],
   "source": [
    "modext = mod13q1extractor(ndvi,evi,nbr)"
   ]
  },
  {
   "cell_type": "markdown",
   "id": "873d19ca-131a-4486-92e5-c658499e1a11",
   "metadata": {},
   "source": [
    "The extraction is really simple: Just type `mod13q1extracto{Object}.run_extraction()`. The process will start extracting the data from the older date for each variable.\n",
    "\n",
    "---\n",
    "**NOTE**\n",
    "\n",
    "It could be useful to expand the functionality of the extract tool selecting the variable the user wants extracting only that variable.\n",
    "\n",
    "---"
   ]
  },
  {
   "cell_type": "code",
   "execution_count": 4,
   "id": "cc0fc478-b107-4208-ae61-cb2796419199",
   "metadata": {},
   "outputs": [
    {
     "name": "stdout",
     "output_type": "stream",
     "text": [
      "Checking temporary folder /Users/aldotapia/tempHidroCL\n",
      "Found 2 files\n",
      "Processing scene A2022097 for ndvi\n",
      "Time elapsed for A2022097: 63 seconds\n",
      "Processing scene A2022097 for evi\n",
      "Time elapsed for A2022097: 52 seconds\n",
      "Processing scene A2022097 for nbr\n"
     ]
    },
    {
     "name": "stderr",
     "output_type": "stream",
     "text": [
      "/Users/aldotapia/opt/anaconda3/envs/ee/lib/python3.10/site-packages/rioxarray/raster_writer.py:110: UserWarning: The nodata value (3.402823466e+38) has been automatically changed to (3.4028234663852886e+38) to match the dtype of the data.\n",
      "  warnings.warn(\n"
     ]
    },
    {
     "name": "stdout",
     "output_type": "stream",
     "text": [
      "Time elapsed for A2022097: 80 seconds\n",
      "Processing scene A2022113 for ndvi\n",
      "Time elapsed for A2022113: 54 seconds\n",
      "Processing scene A2022113 for evi\n",
      "Time elapsed for A2022113: 52 seconds\n",
      "Processing scene A2022113 for nbr\n"
     ]
    },
    {
     "name": "stderr",
     "output_type": "stream",
     "text": [
      "/Users/aldotapia/opt/anaconda3/envs/ee/lib/python3.10/site-packages/rioxarray/raster_writer.py:110: UserWarning: The nodata value (3.402823466e+38) has been automatically changed to (3.4028234663852886e+38) to match the dtype of the data.\n",
      "  warnings.warn(\n"
     ]
    },
    {
     "name": "stdout",
     "output_type": "stream",
     "text": [
      "Time elapsed for A2022113: 84 seconds\n"
     ]
    }
   ],
   "source": [
    "modext.run_extraction()"
   ]
  },
  {
   "cell_type": "markdown",
   "id": "343c870a-5f53-4d89-96cd-c7074de6b95c",
   "metadata": {},
   "source": [
    "Some warning messages raise related to NoData values (fixed!). With `.checkdatabase()` each variable loads the new observations added to the database.\n",
    "\n",
    "---\n",
    "**NOTE**\n",
    "\n",
    "Check observations in database before apply `run_extraction()`, extracting twice without checking database could lead to errors of duplicate observations.\n",
    "\n",
    "---"
   ]
  },
  {
   "cell_type": "code",
   "execution_count": 5,
   "id": "5af7c8d8-d581-4eec-be80-b4a52dd9d9f6",
   "metadata": {},
   "outputs": [
    {
     "name": "stdout",
     "output_type": "stream",
     "text": [
      "Database found, using /Users/aldotapia/camels_test/MOD13Q1/veg_o_modis_ndvi_mean_b_d16_p0d.csv\n",
      "Observations and catchment names added!\n",
      "Database found, using /Users/aldotapia/camels_test/MOD13Q1/veg_o_modis_evi_mean_b_d16_p0d.csv\n",
      "Observations and catchment names added!\n",
      "Database found, using /Users/aldotapia/camels_test/MOD13Q1/veg_o_int_nbr_mean_b_d16_p0d.csv\n",
      "Observations and catchment names added!\n"
     ]
    }
   ],
   "source": [
    "modext.ndvi.checkdatabase()\n",
    "modext.evi.checkdatabase()\n",
    "modext.nbr.checkdatabase()"
   ]
  },
  {
   "cell_type": "markdown",
   "id": "3c41d4a2-6de2-4d70-a381-797963132f49",
   "metadata": {},
   "source": [
    "After loading the database, the results can be accessed by `.observations` instance."
   ]
  },
  {
   "cell_type": "code",
   "execution_count": 6,
   "id": "bd74cfc9-7a88-4f6a-ae25-1a5f8434bb37",
   "metadata": {},
   "outputs": [
    {
     "data": {
      "text/html": [
       "<div>\n",
       "<style scoped>\n",
       "    .dataframe tbody tr th:only-of-type {\n",
       "        vertical-align: middle;\n",
       "    }\n",
       "\n",
       "    .dataframe tbody tr th {\n",
       "        vertical-align: top;\n",
       "    }\n",
       "\n",
       "    .dataframe thead th {\n",
       "        text-align: right;\n",
       "    }\n",
       "</style>\n",
       "<table border=\"1\" class=\"dataframe\">\n",
       "  <thead>\n",
       "    <tr style=\"text-align: right;\">\n",
       "      <th></th>\n",
       "      <th>name_id</th>\n",
       "      <th>1001001</th>\n",
       "      <th>1001002</th>\n",
       "      <th>1001003</th>\n",
       "      <th>1020002</th>\n",
       "      <th>1020003</th>\n",
       "      <th>1021001</th>\n",
       "      <th>1021002</th>\n",
       "      <th>1041002</th>\n",
       "      <th>1044001</th>\n",
       "      <th>...</th>\n",
       "      <th>12820001</th>\n",
       "      <th>12825002</th>\n",
       "      <th>12861001</th>\n",
       "      <th>12863002</th>\n",
       "      <th>12865001</th>\n",
       "      <th>12872001</th>\n",
       "      <th>12876001</th>\n",
       "      <th>12876004</th>\n",
       "      <th>12878001</th>\n",
       "      <th>12930001</th>\n",
       "    </tr>\n",
       "    <tr>\n",
       "      <th>date</th>\n",
       "      <th></th>\n",
       "      <th></th>\n",
       "      <th></th>\n",
       "      <th></th>\n",
       "      <th></th>\n",
       "      <th></th>\n",
       "      <th></th>\n",
       "      <th></th>\n",
       "      <th></th>\n",
       "      <th></th>\n",
       "      <th></th>\n",
       "      <th></th>\n",
       "      <th></th>\n",
       "      <th></th>\n",
       "      <th></th>\n",
       "      <th></th>\n",
       "      <th></th>\n",
       "      <th></th>\n",
       "      <th></th>\n",
       "      <th></th>\n",
       "      <th></th>\n",
       "    </tr>\n",
       "  </thead>\n",
       "  <tbody>\n",
       "    <tr>\n",
       "      <th>2022-04-07</th>\n",
       "      <td>A2022097</td>\n",
       "      <td>111</td>\n",
       "      <td>141</td>\n",
       "      <td>120</td>\n",
       "      <td>88</td>\n",
       "      <td>112</td>\n",
       "      <td>121</td>\n",
       "      <td>100</td>\n",
       "      <td>123</td>\n",
       "      <td>122</td>\n",
       "      <td>...</td>\n",
       "      <td>595</td>\n",
       "      <td>408</td>\n",
       "      <td>500</td>\n",
       "      <td>571</td>\n",
       "      <td>598</td>\n",
       "      <td>551</td>\n",
       "      <td>531</td>\n",
       "      <td>604</td>\n",
       "      <td>558</td>\n",
       "      <td>361</td>\n",
       "    </tr>\n",
       "    <tr>\n",
       "      <th>2022-04-23</th>\n",
       "      <td>A2022113</td>\n",
       "      <td>103</td>\n",
       "      <td>134</td>\n",
       "      <td>114</td>\n",
       "      <td>88</td>\n",
       "      <td>109</td>\n",
       "      <td>118</td>\n",
       "      <td>94</td>\n",
       "      <td>122</td>\n",
       "      <td>120</td>\n",
       "      <td>...</td>\n",
       "      <td>597</td>\n",
       "      <td>296</td>\n",
       "      <td>502</td>\n",
       "      <td>654</td>\n",
       "      <td>661</td>\n",
       "      <td>589</td>\n",
       "      <td>531</td>\n",
       "      <td>490</td>\n",
       "      <td>484</td>\n",
       "      <td>257</td>\n",
       "    </tr>\n",
       "  </tbody>\n",
       "</table>\n",
       "<p>2 rows × 433 columns</p>\n",
       "</div>"
      ],
      "text/plain": [
       "             name_id  1001001  1001002  1001003  1020002  1020003  1021001  \\\n",
       "date                                                                         \n",
       "2022-04-07  A2022097      111      141      120       88      112      121   \n",
       "2022-04-23  A2022113      103      134      114       88      109      118   \n",
       "\n",
       "            1021002  1041002  1044001  ...  12820001  12825002  12861001  \\\n",
       "date                                   ...                                 \n",
       "2022-04-07      100      123      122  ...       595       408       500   \n",
       "2022-04-23       94      122      120  ...       597       296       502   \n",
       "\n",
       "            12863002  12865001  12872001  12876001  12876004  12878001  \\\n",
       "date                                                                     \n",
       "2022-04-07       571       598       551       531       604       558   \n",
       "2022-04-23       654       661       589       531       490       484   \n",
       "\n",
       "            12930001  \n",
       "date                  \n",
       "2022-04-07       361  \n",
       "2022-04-23       257  \n",
       "\n",
       "[2 rows x 433 columns]"
      ]
     },
     "execution_count": 6,
     "metadata": {},
     "output_type": "execute_result"
    }
   ],
   "source": [
    "modext.ndvi.observations"
   ]
  },
  {
   "cell_type": "markdown",
   "id": "f363a72b-2a5e-43dd-b271-eeefb50b0685",
   "metadata": {},
   "source": [
    "The behavior of the object itself is updated as well"
   ]
  },
  {
   "cell_type": "code",
   "execution_count": 7,
   "id": "eeb3177c-7a48-44a4-8d13-b9df74f2e159",
   "metadata": {},
   "outputs": [
    {
     "name": "stdout",
     "output_type": "stream",
     "text": [
      "\n",
      "Variable ndvi.\n",
      "Records: 2.\n",
      "Database path: /Users/aldotapia/camels_test/MOD13Q1/veg_o_modis_ndvi_mean_b_d16_p0d.csv.\n",
      "        \n"
     ]
    }
   ],
   "source": [
    "print(modext.ndvi)"
   ]
  },
  {
   "cell_type": "code",
   "execution_count": 8,
   "id": "3b4c33a7-9025-491a-b028-40152f82824e",
   "metadata": {},
   "outputs": [
    {
     "data": {
      "text/plain": [
       "['A2022097', 'A2022113']"
      ]
     },
     "execution_count": 8,
     "metadata": {},
     "output_type": "execute_result"
    }
   ],
   "source": [
    "modext.ndvi.indatabase"
   ]
  }
 ],
 "metadata": {
  "kernelspec": {
   "display_name": "Python 3 (ipykernel)",
   "language": "python",
   "name": "python3"
  },
  "language_info": {
   "codemirror_mode": {
    "name": "ipython",
    "version": 3
   },
   "file_extension": ".py",
   "mimetype": "text/x-python",
   "name": "python",
   "nbconvert_exporter": "python",
   "pygments_lexer": "ipython3",
   "version": "3.10.4"
  }
 },
 "nbformat": 4,
 "nbformat_minor": 5
}
