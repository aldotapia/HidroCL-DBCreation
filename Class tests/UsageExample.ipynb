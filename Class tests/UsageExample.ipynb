{
 "cells": [
  {
   "cell_type": "markdown",
   "id": "0a319905-5b8a-4f70-bb6c-af59de28e605",
   "metadata": {},
   "source": [
    "# Tests with hidroabc and hidrocl_paths"
   ]
  },
  {
   "cell_type": "markdown",
   "id": "ee8d91ce-ddbe-4ad6-9234-dd460c6c6f8d",
   "metadata": {},
   "source": [
    "## Introducction"
   ]
  },
  {
   "cell_type": "markdown",
   "id": "057bdcd3-61f3-48c7-a669-d9c8e7ae231a",
   "metadata": {},
   "source": [
    "`hidroclabc` is the file that contains abstract base classes (hence *abc*) related to HidroCL database creation. some classes are related directly with the DB variable, others with remote sensing product processing feeding the different DBs.\n",
    "\n",
    "`hidrocl_paths` contains paths and extra info for makinkg this thing work"
   ]
  },
  {
   "cell_type": "markdown",
   "id": "d60f1ccf-785a-4ee7-9ce5-d154edb6c8ae",
   "metadata": {},
   "source": [
    "## Examples"
   ]
  },
  {
   "cell_type": "code",
   "execution_count": 1,
   "id": "811d4dd9-d516-4d7c-82c9-3f9ec44338f1",
   "metadata": {},
   "outputs": [],
   "source": [
    "import hidrocl_paths as hcl\n",
    "from hidroclabc import HidroCLVariable, mod10a2extractor"
   ]
  },
  {
   "cell_type": "code",
   "execution_count": 2,
   "id": "01036fd0-9dec-40cc-89d2-b337f3f6d3dc",
   "metadata": {},
   "outputs": [
    {
     "name": "stdout",
     "output_type": "stream",
     "text": [
      "Help on class HidroCLVariable in module hidroclabc:\n",
      "\n",
      "class HidroCLVariable(builtins.object)\n",
      " |  HidroCLVariable(name, database)\n",
      " |  \n",
      " |  A class to hold information about a hidrocl variable\n",
      " |  \n",
      " |  Parameters:\n",
      " |  name (str): name of the variable\n",
      " |  database (str): path to the database\n",
      " |  \n",
      " |  Methods defined here:\n",
      " |  \n",
      " |  __init__(self, name, database)\n",
      " |      Initialize self.  See help(type(self)) for accurate signature.\n",
      " |  \n",
      " |  __repr__(self)\n",
      " |      Return repr(self).\n",
      " |  \n",
      " |  __str__(self)\n",
      " |      Return str(self).\n",
      " |  \n",
      " |  add_catchment_names(self, catchment_names_list)\n",
      " |      add catchment names to the variable\n",
      " |  \n",
      " |  checkdatabase(self)\n",
      " |      check database\n",
      " |  \n",
      " |  ----------------------------------------------------------------------\n",
      " |  Data descriptors defined here:\n",
      " |  \n",
      " |  __dict__\n",
      " |      dictionary for instance variables (if defined)\n",
      " |  \n",
      " |  __weakref__\n",
      " |      list of weak references to the object (if defined)\n",
      "\n"
     ]
    }
   ],
   "source": [
    "help(HidroCLVariable)"
   ]
  },
  {
   "cell_type": "code",
   "execution_count": 3,
   "id": "e12033e9-4ffa-467d-9480-95de4e3996d0",
   "metadata": {},
   "outputs": [
    {
     "name": "stdout",
     "output_type": "stream",
     "text": [
      "Database found, using /private/nfs2/databases/observed/veg_o_modis_ndvi_mean_b_d16_p0d.csv\n",
      "Observations and catchment names added!\n"
     ]
    }
   ],
   "source": [
    "ndvi = HidroCLVariable('ndvi', hcl.veg_o_modis_ndvi_mean_b_d16_p0d)"
   ]
  },
  {
   "cell_type": "code",
   "execution_count": 4,
   "id": "76a2955d-1ea3-4395-aba4-9a8c3e9bc9f2",
   "metadata": {},
   "outputs": [
    {
     "data": {
      "text/plain": [
       "Variable: ndvi. Records: 354"
      ]
     },
     "execution_count": 4,
     "metadata": {},
     "output_type": "execute_result"
    }
   ],
   "source": [
    "ndvi"
   ]
  },
  {
   "cell_type": "code",
   "execution_count": 5,
   "id": "feed2638-8eae-4b7b-bc62-e1e1ae2689ff",
   "metadata": {},
   "outputs": [
    {
     "name": "stdout",
     "output_type": "stream",
     "text": [
      "\n",
      "Variable ndvi.\n",
      "Records: 354.\n",
      "Database path: /private/nfs2/databases/observed/veg_o_modis_ndvi_mean_b_d16_p0d.csv.\n",
      "        \n"
     ]
    }
   ],
   "source": [
    "print(ndvi)"
   ]
  },
  {
   "cell_type": "code",
   "execution_count": 6,
   "id": "2bf06db3-0c9a-4fb2-9a7c-f5adbbc50f3f",
   "metadata": {},
   "outputs": [
    {
     "data": {
      "text/html": [
       "<div>\n",
       "<style scoped>\n",
       "    .dataframe tbody tr th:only-of-type {\n",
       "        vertical-align: middle;\n",
       "    }\n",
       "\n",
       "    .dataframe tbody tr th {\n",
       "        vertical-align: top;\n",
       "    }\n",
       "\n",
       "    .dataframe thead th {\n",
       "        text-align: right;\n",
       "    }\n",
       "</style>\n",
       "<table border=\"1\" class=\"dataframe\">\n",
       "  <thead>\n",
       "    <tr style=\"text-align: right;\">\n",
       "      <th></th>\n",
       "      <th>modis_id</th>\n",
       "      <th>1001001</th>\n",
       "      <th>1001002</th>\n",
       "      <th>1001003</th>\n",
       "      <th>1020002</th>\n",
       "      <th>1020003</th>\n",
       "      <th>1021001</th>\n",
       "      <th>1021002</th>\n",
       "      <th>1041002</th>\n",
       "      <th>1044001</th>\n",
       "      <th>...</th>\n",
       "      <th>12820001</th>\n",
       "      <th>12825002</th>\n",
       "      <th>12861001</th>\n",
       "      <th>12863002</th>\n",
       "      <th>12865001</th>\n",
       "      <th>12872001</th>\n",
       "      <th>12876001</th>\n",
       "      <th>12876004</th>\n",
       "      <th>12878001</th>\n",
       "      <th>12930001</th>\n",
       "    </tr>\n",
       "    <tr>\n",
       "      <th>date</th>\n",
       "      <th></th>\n",
       "      <th></th>\n",
       "      <th></th>\n",
       "      <th></th>\n",
       "      <th></th>\n",
       "      <th></th>\n",
       "      <th></th>\n",
       "      <th></th>\n",
       "      <th></th>\n",
       "      <th></th>\n",
       "      <th></th>\n",
       "      <th></th>\n",
       "      <th></th>\n",
       "      <th></th>\n",
       "      <th></th>\n",
       "      <th></th>\n",
       "      <th></th>\n",
       "      <th></th>\n",
       "      <th></th>\n",
       "      <th></th>\n",
       "      <th></th>\n",
       "    </tr>\n",
       "  </thead>\n",
       "  <tbody>\n",
       "    <tr>\n",
       "      <th>2000-02-18</th>\n",
       "      <td>A2000049</td>\n",
       "      <td>49</td>\n",
       "      <td>101</td>\n",
       "      <td>67</td>\n",
       "      <td>50</td>\n",
       "      <td>85</td>\n",
       "      <td>112</td>\n",
       "      <td>81</td>\n",
       "      <td>109</td>\n",
       "      <td>107</td>\n",
       "      <td>...</td>\n",
       "      <td>776</td>\n",
       "      <td>401</td>\n",
       "      <td>460.0</td>\n",
       "      <td>542</td>\n",
       "      <td>647.0</td>\n",
       "      <td>595.0</td>\n",
       "      <td>636</td>\n",
       "      <td>671</td>\n",
       "      <td>658.0</td>\n",
       "      <td>188.0</td>\n",
       "    </tr>\n",
       "    <tr>\n",
       "      <th>2000-03-05</th>\n",
       "      <td>A2000065</td>\n",
       "      <td>87</td>\n",
       "      <td>130</td>\n",
       "      <td>109</td>\n",
       "      <td>65</td>\n",
       "      <td>96</td>\n",
       "      <td>119</td>\n",
       "      <td>94</td>\n",
       "      <td>114</td>\n",
       "      <td>115</td>\n",
       "      <td>...</td>\n",
       "      <td>844</td>\n",
       "      <td>364</td>\n",
       "      <td>507.0</td>\n",
       "      <td>610</td>\n",
       "      <td>674.0</td>\n",
       "      <td>618.0</td>\n",
       "      <td>697</td>\n",
       "      <td>770</td>\n",
       "      <td>743.0</td>\n",
       "      <td>468.0</td>\n",
       "    </tr>\n",
       "    <tr>\n",
       "      <th>2000-03-21</th>\n",
       "      <td>A2000081</td>\n",
       "      <td>108</td>\n",
       "      <td>144</td>\n",
       "      <td>125</td>\n",
       "      <td>80</td>\n",
       "      <td>110</td>\n",
       "      <td>126</td>\n",
       "      <td>98</td>\n",
       "      <td>116</td>\n",
       "      <td>114</td>\n",
       "      <td>...</td>\n",
       "      <td>753</td>\n",
       "      <td>495</td>\n",
       "      <td>541.0</td>\n",
       "      <td>620</td>\n",
       "      <td>682.0</td>\n",
       "      <td>627.0</td>\n",
       "      <td>678</td>\n",
       "      <td>768</td>\n",
       "      <td>731.0</td>\n",
       "      <td>407.0</td>\n",
       "    </tr>\n",
       "    <tr>\n",
       "      <th>2000-04-06</th>\n",
       "      <td>A2000097</td>\n",
       "      <td>110</td>\n",
       "      <td>139</td>\n",
       "      <td>122</td>\n",
       "      <td>79</td>\n",
       "      <td>106</td>\n",
       "      <td>120</td>\n",
       "      <td>94</td>\n",
       "      <td>113</td>\n",
       "      <td>115</td>\n",
       "      <td>...</td>\n",
       "      <td>680</td>\n",
       "      <td>415</td>\n",
       "      <td>535.0</td>\n",
       "      <td>607</td>\n",
       "      <td>603.0</td>\n",
       "      <td>562.0</td>\n",
       "      <td>543</td>\n",
       "      <td>600</td>\n",
       "      <td>557.0</td>\n",
       "      <td>375.0</td>\n",
       "    </tr>\n",
       "    <tr>\n",
       "      <th>2000-04-22</th>\n",
       "      <td>A2000113</td>\n",
       "      <td>92</td>\n",
       "      <td>126</td>\n",
       "      <td>107</td>\n",
       "      <td>61</td>\n",
       "      <td>88</td>\n",
       "      <td>111</td>\n",
       "      <td>88</td>\n",
       "      <td>108</td>\n",
       "      <td>111</td>\n",
       "      <td>...</td>\n",
       "      <td>626</td>\n",
       "      <td>391</td>\n",
       "      <td>530.0</td>\n",
       "      <td>581</td>\n",
       "      <td>592.0</td>\n",
       "      <td>524.0</td>\n",
       "      <td>514</td>\n",
       "      <td>565</td>\n",
       "      <td>549.0</td>\n",
       "      <td>376.0</td>\n",
       "    </tr>\n",
       "    <tr>\n",
       "      <th>...</th>\n",
       "      <td>...</td>\n",
       "      <td>...</td>\n",
       "      <td>...</td>\n",
       "      <td>...</td>\n",
       "      <td>...</td>\n",
       "      <td>...</td>\n",
       "      <td>...</td>\n",
       "      <td>...</td>\n",
       "      <td>...</td>\n",
       "      <td>...</td>\n",
       "      <td>...</td>\n",
       "      <td>...</td>\n",
       "      <td>...</td>\n",
       "      <td>...</td>\n",
       "      <td>...</td>\n",
       "      <td>...</td>\n",
       "      <td>...</td>\n",
       "      <td>...</td>\n",
       "      <td>...</td>\n",
       "      <td>...</td>\n",
       "      <td>...</td>\n",
       "    </tr>\n",
       "    <tr>\n",
       "      <th>2015-04-23</th>\n",
       "      <td>A2015113</td>\n",
       "      <td>115</td>\n",
       "      <td>141</td>\n",
       "      <td>120</td>\n",
       "      <td>86</td>\n",
       "      <td>114</td>\n",
       "      <td>127</td>\n",
       "      <td>104</td>\n",
       "      <td>127</td>\n",
       "      <td>124</td>\n",
       "      <td>...</td>\n",
       "      <td>706</td>\n",
       "      <td>400</td>\n",
       "      <td>515.0</td>\n",
       "      <td>590</td>\n",
       "      <td>628.0</td>\n",
       "      <td>566.0</td>\n",
       "      <td>579</td>\n",
       "      <td>607</td>\n",
       "      <td>574.0</td>\n",
       "      <td>388.0</td>\n",
       "    </tr>\n",
       "    <tr>\n",
       "      <th>2015-05-09</th>\n",
       "      <td>A2015129</td>\n",
       "      <td>108</td>\n",
       "      <td>137</td>\n",
       "      <td>117</td>\n",
       "      <td>89</td>\n",
       "      <td>111</td>\n",
       "      <td>121</td>\n",
       "      <td>98</td>\n",
       "      <td>124</td>\n",
       "      <td>118</td>\n",
       "      <td>...</td>\n",
       "      <td>551</td>\n",
       "      <td>289</td>\n",
       "      <td>472.0</td>\n",
       "      <td>538</td>\n",
       "      <td>464.0</td>\n",
       "      <td>487.0</td>\n",
       "      <td>407</td>\n",
       "      <td>469</td>\n",
       "      <td>468.0</td>\n",
       "      <td>275.0</td>\n",
       "    </tr>\n",
       "    <tr>\n",
       "      <th>2015-05-25</th>\n",
       "      <td>A2015145</td>\n",
       "      <td>104</td>\n",
       "      <td>131</td>\n",
       "      <td>111</td>\n",
       "      <td>86</td>\n",
       "      <td>106</td>\n",
       "      <td>119</td>\n",
       "      <td>98</td>\n",
       "      <td>123</td>\n",
       "      <td>115</td>\n",
       "      <td>...</td>\n",
       "      <td>349</td>\n",
       "      <td>66</td>\n",
       "      <td>460.0</td>\n",
       "      <td>505</td>\n",
       "      <td>503.0</td>\n",
       "      <td>439.0</td>\n",
       "      <td>265</td>\n",
       "      <td>279</td>\n",
       "      <td>257.0</td>\n",
       "      <td>44.0</td>\n",
       "    </tr>\n",
       "    <tr>\n",
       "      <th>2015-06-10</th>\n",
       "      <td>A2015161</td>\n",
       "      <td>99</td>\n",
       "      <td>125</td>\n",
       "      <td>106</td>\n",
       "      <td>82</td>\n",
       "      <td>101</td>\n",
       "      <td>115</td>\n",
       "      <td>95</td>\n",
       "      <td>120</td>\n",
       "      <td>115</td>\n",
       "      <td>...</td>\n",
       "      <td>212</td>\n",
       "      <td>25</td>\n",
       "      <td>398.0</td>\n",
       "      <td>275</td>\n",
       "      <td>26.0</td>\n",
       "      <td>5.0</td>\n",
       "      <td>55</td>\n",
       "      <td>99</td>\n",
       "      <td>34.0</td>\n",
       "      <td>16.0</td>\n",
       "    </tr>\n",
       "    <tr>\n",
       "      <th>2015-06-26</th>\n",
       "      <td>A2015177</td>\n",
       "      <td>114</td>\n",
       "      <td>123</td>\n",
       "      <td>107</td>\n",
       "      <td>82</td>\n",
       "      <td>99</td>\n",
       "      <td>112</td>\n",
       "      <td>93</td>\n",
       "      <td>117</td>\n",
       "      <td>112</td>\n",
       "      <td>...</td>\n",
       "      <td>204</td>\n",
       "      <td>46</td>\n",
       "      <td>373.0</td>\n",
       "      <td>154</td>\n",
       "      <td>NaN</td>\n",
       "      <td>10.0</td>\n",
       "      <td>27</td>\n",
       "      <td>51</td>\n",
       "      <td>23.0</td>\n",
       "      <td>67.0</td>\n",
       "    </tr>\n",
       "  </tbody>\n",
       "</table>\n",
       "<p>354 rows × 433 columns</p>\n",
       "</div>"
      ],
      "text/plain": [
       "            modis_id  1001001  1001002  1001003  1020002  1020003  1021001  \\\n",
       "date                                                                         \n",
       "2000-02-18  A2000049       49      101       67       50       85      112   \n",
       "2000-03-05  A2000065       87      130      109       65       96      119   \n",
       "2000-03-21  A2000081      108      144      125       80      110      126   \n",
       "2000-04-06  A2000097      110      139      122       79      106      120   \n",
       "2000-04-22  A2000113       92      126      107       61       88      111   \n",
       "...              ...      ...      ...      ...      ...      ...      ...   \n",
       "2015-04-23  A2015113      115      141      120       86      114      127   \n",
       "2015-05-09  A2015129      108      137      117       89      111      121   \n",
       "2015-05-25  A2015145      104      131      111       86      106      119   \n",
       "2015-06-10  A2015161       99      125      106       82      101      115   \n",
       "2015-06-26  A2015177      114      123      107       82       99      112   \n",
       "\n",
       "            1021002  1041002  1044001  ...  12820001  12825002  12861001  \\\n",
       "date                                   ...                                 \n",
       "2000-02-18       81      109      107  ...       776       401     460.0   \n",
       "2000-03-05       94      114      115  ...       844       364     507.0   \n",
       "2000-03-21       98      116      114  ...       753       495     541.0   \n",
       "2000-04-06       94      113      115  ...       680       415     535.0   \n",
       "2000-04-22       88      108      111  ...       626       391     530.0   \n",
       "...             ...      ...      ...  ...       ...       ...       ...   \n",
       "2015-04-23      104      127      124  ...       706       400     515.0   \n",
       "2015-05-09       98      124      118  ...       551       289     472.0   \n",
       "2015-05-25       98      123      115  ...       349        66     460.0   \n",
       "2015-06-10       95      120      115  ...       212        25     398.0   \n",
       "2015-06-26       93      117      112  ...       204        46     373.0   \n",
       "\n",
       "            12863002  12865001  12872001  12876001  12876004  12878001  \\\n",
       "date                                                                     \n",
       "2000-02-18       542     647.0     595.0       636       671     658.0   \n",
       "2000-03-05       610     674.0     618.0       697       770     743.0   \n",
       "2000-03-21       620     682.0     627.0       678       768     731.0   \n",
       "2000-04-06       607     603.0     562.0       543       600     557.0   \n",
       "2000-04-22       581     592.0     524.0       514       565     549.0   \n",
       "...              ...       ...       ...       ...       ...       ...   \n",
       "2015-04-23       590     628.0     566.0       579       607     574.0   \n",
       "2015-05-09       538     464.0     487.0       407       469     468.0   \n",
       "2015-05-25       505     503.0     439.0       265       279     257.0   \n",
       "2015-06-10       275      26.0       5.0        55        99      34.0   \n",
       "2015-06-26       154       NaN      10.0        27        51      23.0   \n",
       "\n",
       "            12930001  \n",
       "date                  \n",
       "2000-02-18     188.0  \n",
       "2000-03-05     468.0  \n",
       "2000-03-21     407.0  \n",
       "2000-04-06     375.0  \n",
       "2000-04-22     376.0  \n",
       "...              ...  \n",
       "2015-04-23     388.0  \n",
       "2015-05-09     275.0  \n",
       "2015-05-25      44.0  \n",
       "2015-06-10      16.0  \n",
       "2015-06-26      67.0  \n",
       "\n",
       "[354 rows x 433 columns]"
      ]
     },
     "execution_count": 6,
     "metadata": {},
     "output_type": "execute_result"
    }
   ],
   "source": [
    "ndvi.observations"
   ]
  },
  {
   "cell_type": "code",
   "execution_count": 7,
   "id": "09878c08-96eb-423b-ba38-3434c0e86ef1",
   "metadata": {},
   "outputs": [
    {
     "data": {
      "text/plain": [
       "['A2000065',\n",
       " 'A2000081',\n",
       " 'A2000097',\n",
       " 'A2000113',\n",
       " 'A2000129',\n",
       " 'A2000145',\n",
       " 'A2000161',\n",
       " 'A2000177',\n",
       " 'A2000193',\n",
       " 'A2000209',\n",
       " 'A2000225',\n",
       " 'A2000241',\n",
       " 'A2000257',\n",
       " 'A2000273',\n",
       " 'A2000289',\n",
       " 'A2000305',\n",
       " 'A2000321',\n",
       " 'A2000337',\n",
       " 'A2000353']"
      ]
     },
     "execution_count": 7,
     "metadata": {},
     "output_type": "execute_result"
    }
   ],
   "source": [
    "ndvi.indatabase[1:20]"
   ]
  },
  {
   "cell_type": "code",
   "execution_count": 8,
   "id": "d5ea5c73-57b9-44b0-84ad-2907a0c0ca73",
   "metadata": {},
   "outputs": [
    {
     "data": {
      "text/plain": [
       "<AxesSubplot:>"
      ]
     },
     "execution_count": 8,
     "metadata": {},
     "output_type": "execute_result"
    },
    {
     "data": {
      "image/png": "[encoded data removed]",
      "text/plain": [
       "<Figure size 432x288 with 1 Axes>"
      ]
     },
     "metadata": {
      "needs_background": "light"
     },
     "output_type": "display_data"
    }
   ],
   "source": [
    "flierprops = dict(marker = '+', markersize = 2)\n",
    "bxplt = ndvi.observations.boxplot(grid = False, flierprops = flierprops)\n",
    "bxplt.axes.get_xaxis().set_ticks([])\n",
    "bxplt"
   ]
  },
  {
   "cell_type": "code",
   "execution_count": 9,
   "id": "e9126f5a-f37c-475b-ad95-90d20081009b",
   "metadata": {},
   "outputs": [
    {
     "data": {
      "text/plain": [
       "['4501001',\n",
       " '4503001',\n",
       " '4511002',\n",
       " '4512001',\n",
       " '4513001',\n",
       " '4514001',\n",
       " '4515002',\n",
       " '4520001',\n",
       " '4522002',\n",
       " '4523002',\n",
       " '4530001',\n",
       " '4531002',\n",
       " '4532001',\n",
       " '4533002',\n",
       " '4537001',\n",
       " '4558001',\n",
       " '4703002',\n",
       " '4704001',\n",
       " '4704002',\n",
       " '4711001']"
      ]
     },
     "execution_count": 9,
     "metadata": {},
     "output_type": "execute_result"
    }
   ],
   "source": [
    "ndvi.catchment_names[80:100]"
   ]
  },
  {
   "cell_type": "code",
   "execution_count": 10,
   "id": "004e4d97-e5d6-4b81-861d-1a3f986a7667",
   "metadata": {},
   "outputs": [
    {
     "data": {
      "text/plain": [
       "<AxesSubplot:xlabel='date'>"
      ]
     },
     "execution_count": 10,
     "metadata": {},
     "output_type": "execute_result"
    },
    {
     "data": {
      "image/png": "[encoded data removed]",
      "text/plain": [
       "<Figure size 432x288 with 1 Axes>"
      ]
     },
     "metadata": {
      "needs_background": "light"
     },
     "output_type": "display_data"
    }
   ],
   "source": [
    "ndvi.observations[['4558001']].plot()"
   ]
  },
  {
   "cell_type": "code",
   "execution_count": 11,
   "id": "93971045-0fcd-4f95-83d3-deaa6b5f1c64",
   "metadata": {},
   "outputs": [
    {
     "data": {
      "text/plain": [
       "<AxesSubplot:xlabel='date'>"
      ]
     },
     "execution_count": 11,
     "metadata": {},
     "output_type": "execute_result"
    },
    {
     "data": {
      "image/png": "[encoded data removed]",
      "text/plain": [
       "<Figure size 432x288 with 1 Axes>"
      ]
     },
     "metadata": {
      "needs_background": "light"
     },
     "output_type": "display_data"
    }
   ],
   "source": [
    "ndvi.observations[['4558001','4523002','4513001','4511002']].plot()"
   ]
  },
  {
   "cell_type": "code",
   "execution_count": 12,
   "id": "4e6f533e-3e38-4607-9c4d-82248746551c",
   "metadata": {},
   "outputs": [
    {
     "name": "stdout",
     "output_type": "stream",
     "text": [
      "Database found, using /private/nfs2/databases/observed/veg_o_modis_evi_mean_b_d16_p0d.csv\n",
      "Observations and catchment names added!\n"
     ]
    }
   ],
   "source": [
    "evi = HidroCLVariable('evi_temporal', hcl.veg_o_modis_evi_mean_b_d16_p0d)"
   ]
  },
  {
   "cell_type": "code",
   "execution_count": 13,
   "id": "5c7e7cae-bd8b-4904-b72b-801e6b1747ea",
   "metadata": {},
   "outputs": [
    {
     "name": "stdout",
     "output_type": "stream",
     "text": [
      "\n",
      "Variable evi_temporal.\n",
      "Records: 2.\n",
      "Database path: /private/nfs2/databases/observed/veg_o_modis_evi_mean_b_d16_p0d.csv.\n",
      "        \n"
     ]
    }
   ],
   "source": [
    "print(evi)"
   ]
  },
  {
   "cell_type": "code",
   "execution_count": 14,
   "id": "0f651ec2-b3e3-42a8-ad5d-f87412dbb6c5",
   "metadata": {},
   "outputs": [
    {
     "name": "stdout",
     "output_type": "stream",
     "text": [
      "Database found, using /private/nfs2/databases/observed/veg_o_int_nbr_mean_b_d16_p0d.csv\n",
      "Observations and catchment names added!\n"
     ]
    }
   ],
   "source": [
    "nbr = HidroCLVariable('nbr_temporal', hcl.veg_o_int_nbr_mean_b_d16_p0d)"
   ]
  },
  {
   "cell_type": "code",
   "execution_count": 15,
   "id": "7f55780a-0744-44fc-8ba8-b6e45103a4e9",
   "metadata": {},
   "outputs": [
    {
     "name": "stdout",
     "output_type": "stream",
     "text": [
      "\n",
      "Variable nbr_temporal.\n",
      "Records: 1.\n",
      "Database path: /private/nfs2/databases/observed/veg_o_int_nbr_mean_b_d16_p0d.csv.\n",
      "        \n"
     ]
    }
   ],
   "source": [
    "print(nbr)"
   ]
  },
  {
   "cell_type": "code",
   "execution_count": 16,
   "id": "ab3d8866-9fae-4dd8-b853-0c16f26730c3",
   "metadata": {},
   "outputs": [
    {
     "name": "stdout",
     "output_type": "stream",
     "text": [
      "Help on class mod10a2extractor in module hidroclabc:\n",
      "\n",
      "class mod10a2extractor(builtins.object)\n",
      " |  mod10a2extractor(ndvi, evi, nbr)\n",
      " |  \n",
      " |  class to extract mod10a2 to hidrocl variables\n",
      " |  \n",
      " |  Parameters:\n",
      " |  ndvi (HidroCLVariable): ndvi variable\n",
      " |  evi (HidroCLVariable): evi variable\n",
      " |  nbr (HidroCLVariable): nbr variable\n",
      " |  \n",
      " |  Methods defined here:\n",
      " |  \n",
      " |  __init__(self, ndvi, evi, nbr)\n",
      " |      Initialize self.  See help(type(self)) for accurate signature.\n",
      " |  \n",
      " |  __repr__(self)\n",
      " |      Return repr(self).\n",
      " |  \n",
      " |  __str__(self)\n",
      " |      Return str(self).\n",
      " |  \n",
      " |  check_product_files(self)\n",
      " |      extract product ids from product files\n",
      " |  \n",
      " |  compare_indatabase(self)\n",
      " |      compare indatabase and return elements that are equal\n",
      " |  \n",
      " |  count_scenes_occurrences(self)\n",
      " |      count self.all_scenes in self.product_ids returning a dictionary\n",
      " |  \n",
      " |  get_complete_scenes(self)\n",
      " |      get scenes with 9 items from self.scenes_occurrences\n",
      " |  \n",
      " |  get_incomplete_scenes(self)\n",
      " |      get scenes with less than 9 items from self.scenes_occurrences\n",
      " |  \n",
      " |  get_overpopulated_scenes(self)\n",
      " |      get scenes with more than 9 items from self.scenes_occurrences\n",
      " |  \n",
      " |  get_product_ids(self)\n",
      " |      get product ids\n",
      " |  \n",
      " |  get_scenes_out_of_db(self)\n",
      " |      compare\n",
      " |      self.ndvi.indatabase and\n",
      " |      self.evi.indatabase and\n",
      " |      self.nbr.indatabase and\n",
      " |      return scenes that are not in the database\n",
      " |  \n",
      " |  order_indatabase(self)\n",
      " |      order indatabase attributes\n",
      " |  \n",
      " |  read_product_files(self)\n",
      " |      read product files\n",
      " |  \n",
      " |  ----------------------------------------------------------------------\n",
      " |  Data descriptors defined here:\n",
      " |  \n",
      " |  __dict__\n",
      " |      dictionary for instance variables (if defined)\n",
      " |  \n",
      " |  __weakref__\n",
      " |      list of weak references to the object (if defined)\n",
      "\n"
     ]
    }
   ],
   "source": [
    "help(mod10a2extractor)"
   ]
  },
  {
   "cell_type": "code",
   "execution_count": 17,
   "id": "324f2db0-8c89-409e-a551-7fadc09ff31c",
   "metadata": {},
   "outputs": [],
   "source": [
    "modext = mod10a2extractor(ndvi,evi,nbr)"
   ]
  },
  {
   "cell_type": "code",
   "execution_count": 18,
   "id": "f812aef6-acf9-435c-987b-fdeea5aa2d60",
   "metadata": {},
   "outputs": [
    {
     "data": {
      "text/plain": [
       "Class to extract MODIS MOD10A2 Version 0.61"
      ]
     },
     "execution_count": 18,
     "metadata": {},
     "output_type": "execute_result"
    }
   ],
   "source": [
    "modext"
   ]
  },
  {
   "cell_type": "code",
   "execution_count": 19,
   "id": "0ce3dceb-309b-40f1-8c1c-5f638070bbce",
   "metadata": {},
   "outputs": [
    {
     "name": "stdout",
     "output_type": "stream",
     "text": [
      "\n",
      "Product: MODIS MOD10A2 Version 0.61\n",
      "\n",
      "NDVI records: 354.\n",
      "NDVI database path: /private/nfs2/databases/observed/veg_o_modis_ndvi_mean_b_d16_p0d.csv\n",
      "\n",
      "EVI records: 2.\n",
      "EVI database path: /private/nfs2/databases/observed/veg_o_modis_evi_mean_b_d16_p0d.csv\n",
      "\n",
      "NBR records: 1.\n",
      "NBR database path: /private/nfs2/databases/observed/veg_o_int_nbr_mean_b_d16_p0d.csv\n",
      "        \n"
     ]
    }
   ],
   "source": [
    "print(modext)"
   ]
  },
  {
   "cell_type": "code",
   "execution_count": 20,
   "id": "dd15dc13-9f0a-4612-b0be-46413bcb1bef",
   "metadata": {},
   "outputs": [
    {
     "data": {
      "text/plain": [
       "'/private/nfs2/observed/MOD10A2/'"
      ]
     },
     "execution_count": 20,
     "metadata": {},
     "output_type": "execute_result"
    }
   ],
   "source": [
    "modext.productpath"
   ]
  },
  {
   "cell_type": "code",
   "execution_count": 21,
   "id": "340ec153-7493-47a9-bf74-1a378a591519",
   "metadata": {},
   "outputs": [
    {
     "data": {
      "text/plain": [
       "<AxesSubplot:xlabel='date'>"
      ]
     },
     "execution_count": 21,
     "metadata": {},
     "output_type": "execute_result"
    },
    {
     "data": {
      "image/png": "[encoded data removed]",
      "text/plain": [
       "<Figure size 432x288 with 1 Axes>"
      ]
     },
     "metadata": {
      "needs_background": "light"
     },
     "output_type": "display_data"
    }
   ],
   "source": [
    "modext.ndvi.observations[['8394001']].plot.area()"
   ]
  },
  {
   "cell_type": "code",
   "execution_count": 22,
   "id": "279e7ccb-1636-4446-8f54-505fb0ef3aa7",
   "metadata": {},
   "outputs": [
    {
     "data": {
      "text/plain": [
       "{'A2000049'}"
      ]
     },
     "execution_count": 22,
     "metadata": {},
     "output_type": "execute_result"
    }
   ],
   "source": [
    "modext.common_elements"
   ]
  },
  {
   "cell_type": "code",
   "execution_count": 23,
   "id": "a2fad64e-5820-495f-aac5-0ea8f9e8433f",
   "metadata": {},
   "outputs": [
    {
     "data": {
      "text/plain": [
       "['MOD10A2.A2000049.h11v11.061.2020041202514.hdf',\n",
       " 'MOD10A2.A2000049.h11v12.061.2020041202443.hdf',\n",
       " 'MOD10A2.A2000049.h12v11.061.2020041203253.hdf',\n",
       " 'MOD10A2.A2000049.h12v12.061.2020041203240.hdf',\n",
       " 'MOD10A2.A2000049.h12v13.061.2020041203737.hdf',\n",
       " 'MOD10A2.A2000049.h13v13.061.2020041202302.hdf',\n",
       " 'MOD10A2.A2000049.h13v14.061.2020041203410.hdf',\n",
       " 'MOD10A2.A2000049.h14v14.061.2020041204245.hdf',\n",
       " 'MOD10A2.A2000057.h11v10.061.2020037215040.hdf']"
      ]
     },
     "execution_count": 23,
     "metadata": {},
     "output_type": "execute_result"
    }
   ],
   "source": [
    "modext.product_files[1:10]"
   ]
  },
  {
   "cell_type": "code",
   "execution_count": 24,
   "id": "456b152f-db30-4320-b734-de6e65a1f99e",
   "metadata": {},
   "outputs": [
    {
     "data": {
      "text/plain": [
       "['A2000057',\n",
       " 'A2000065',\n",
       " 'A2000073',\n",
       " 'A2000081',\n",
       " 'A2000089',\n",
       " 'A2000097',\n",
       " 'A2000105',\n",
       " 'A2000113',\n",
       " 'A2000121']"
      ]
     },
     "execution_count": 24,
     "metadata": {},
     "output_type": "execute_result"
    }
   ],
   "source": [
    "modext.all_scenes[1:10]"
   ]
  },
  {
   "cell_type": "code",
   "execution_count": 25,
   "id": "ff24f670-28cf-4922-b6e3-b7ee908205bf",
   "metadata": {},
   "outputs": [
    {
     "data": {
      "text/plain": [
       "9"
      ]
     },
     "execution_count": 25,
     "metadata": {},
     "output_type": "execute_result"
    }
   ],
   "source": [
    "modext.scenes_occurrences.get('A2000097')"
   ]
  },
  {
   "cell_type": "code",
   "execution_count": 26,
   "id": "75a091c4-0288-48cc-b409-3dce3b98f55a",
   "metadata": {},
   "outputs": [
    {
     "data": {
      "text/plain": [
       "['A2000225']"
      ]
     },
     "execution_count": 26,
     "metadata": {},
     "output_type": "execute_result"
    }
   ],
   "source": [
    "modext.incomplete_scenes"
   ]
  },
  {
   "cell_type": "code",
   "execution_count": 27,
   "id": "0c75e9cc-dddb-496d-9a3d-711e374084d9",
   "metadata": {},
   "outputs": [
    {
     "data": {
      "text/plain": [
       "['A2000065', 'A2000073', 'A2000081', 'A2000089']"
      ]
     },
     "execution_count": 27,
     "metadata": {},
     "output_type": "execute_result"
    }
   ],
   "source": [
    "modext.scenes_to_process[1:5]"
   ]
  }
 ],
 "metadata": {
  "kernelspec": {
   "display_name": "Python 3 (ipykernel)",
   "language": "python",
   "name": "python3"
  },
  "language_info": {
   "codemirror_mode": {
    "name": "ipython",
    "version": 3
   },
   "file_extension": ".py",
   "mimetype": "text/x-python",
   "name": "python",
   "nbconvert_exporter": "python",
   "pygments_lexer": "ipython3",
   "version": "3.10.4"
  }
 },
 "nbformat": 4,
 "nbformat_minor": 5
}
