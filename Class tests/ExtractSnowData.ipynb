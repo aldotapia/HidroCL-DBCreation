{
 "cells": [
  {
   "cell_type": "code",
   "execution_count": 1,
   "id": "40b1f5bc-5f42-4550-82c0-8912df335b47",
   "metadata": {},
   "outputs": [],
   "source": [
    "import hidrocl_paths as hcl\n",
    "from hidroclabc import HidroCLVariable, mod10a2extractor"
   ]
  },
  {
   "cell_type": "code",
   "execution_count": 2,
   "id": "6b002119-9674-4b22-a7ae-e50d1689dde2",
   "metadata": {},
   "outputs": [
    {
     "name": "stdout",
     "output_type": "stream",
     "text": [
      "Database found, using /private/nfs2/databases/observed/snw_o_modis_sca_cum_n_d8_p0d.csv\n",
      "Observations and catchment names added!\n",
      "Database found, using /private/nfs2/databases/observed/snw_o_modis_sca_cum_s_d8_p0d.csv\n",
      "Observations and catchment names added!\n"
     ]
    }
   ],
   "source": [
    "nsnow = HidroCLVariable('ssnow',hcl.snw_o_modis_sca_cum_n_d8_p0d)\n",
    "ssnow = HidroCLVariable('ssnow',hcl.snw_o_modis_sca_cum_s_d8_p0d)"
   ]
  },
  {
   "cell_type": "code",
   "execution_count": 3,
   "id": "bbcb3d95-7540-4423-8f9a-1c96dca56226",
   "metadata": {},
   "outputs": [
    {
     "name": "stdout",
     "output_type": "stream",
     "text": [
      "Help on class mod10a2extractor in module hidroclabc:\n",
      "\n",
      "class mod10a2extractor(builtins.object)\n",
      " |  mod10a2extractor(nsnow, ssnow)\n",
      " |  \n",
      " |  class to extract MOD10A2 to hidrocl variables\n",
      " |  \n",
      " |  Parameters:\n",
      " |  nsnow (HidroCLVariable): north face snow\n",
      " |  ssnow (HidroCLVariable): south face snow\n",
      " |  \n",
      " |  Methods defined here:\n",
      " |  \n",
      " |  __init__(self, nsnow, ssnow)\n",
      " |      Initialize self.  See help(type(self)) for accurate signature.\n",
      " |  \n",
      " |  __repr__(self)\n",
      " |      Return repr(self).\n",
      " |  \n",
      " |  __str__(self)\n",
      " |      Return str(self).\n",
      " |  \n",
      " |  check_product_files(self)\n",
      " |      extract product ids from product files\n",
      " |  \n",
      " |  compare_indatabase(self)\n",
      " |      compare indatabase and return elements that are equal\n",
      " |  \n",
      " |  count_scenes_occurrences(self)\n",
      " |      count self.all_scenes in self.product_ids returning a dictionary\n",
      " |  \n",
      " |  get_complete_scenes(self)\n",
      " |      get scenes with 9 items from self.scenes_occurrences\n",
      " |  \n",
      " |  get_incomplete_scenes(self)\n",
      " |      get scenes with less than 9 items from self.scenes_occurrences\n",
      " |  \n",
      " |  get_overpopulated_scenes(self)\n",
      " |      get scenes with more than 9 items from self.scenes_occurrences\n",
      " |  \n",
      " |  get_product_ids(self)\n",
      " |      get product ids\n",
      " |  \n",
      " |  get_scenes_out_of_db(self)\n",
      " |      compare\n",
      " |      self.nsnow.indatabase and\n",
      " |      self.ssnow.indatabase and\n",
      " |      return scenes that are not in the database\n",
      " |  \n",
      " |  order_indatabase(self)\n",
      " |      order indatabase attributes\n",
      " |  \n",
      " |  read_product_files(self)\n",
      " |      read product files\n",
      " |  \n",
      " |  run_extraction(self, limit=None)\n",
      " |      run scenes to process\n",
      " |  \n",
      " |  ----------------------------------------------------------------------\n",
      " |  Data descriptors defined here:\n",
      " |  \n",
      " |  __dict__\n",
      " |      dictionary for instance variables (if defined)\n",
      " |  \n",
      " |  __weakref__\n",
      " |      list of weak references to the object (if defined)\n",
      "\n"
     ]
    }
   ],
   "source": [
    "help(mod10a2extractor)"
   ]
  },
  {
   "cell_type": "code",
   "execution_count": 4,
   "id": "50d6dde2-18a5-4f24-a9df-6a54cb89acd7",
   "metadata": {},
   "outputs": [],
   "source": [
    "snowext = mod10a2extractor(nsnow, ssnow)"
   ]
  },
  {
   "cell_type": "code",
   "execution_count": 5,
   "id": "bcc7b635-2ffe-4ed8-8deb-42ddf2094657",
   "metadata": {},
   "outputs": [
    {
     "name": "stdout",
     "output_type": "stream",
     "text": [
      "Checking temporary folder /Users/aldotapia/tempHidroCL\n",
      "Found 3 files\n",
      "Processing scene A2000225 for snow processing\n",
      "Time elapsed for A2000225: 37 seconds\n",
      "Processing scene A2022177 for snow processing\n",
      "Time elapsed for A2022177: 40 seconds\n"
     ]
    }
   ],
   "source": [
    "snowext.run_extraction()"
   ]
  },
  {
   "cell_type": "code",
   "execution_count": null,
   "id": "11eb1006-688f-4ec5-b218-bdd46dfc9f97",
   "metadata": {},
   "outputs": [],
   "source": []
  }
 ],
 "metadata": {
  "kernelspec": {
   "display_name": "Python 3 (ipykernel)",
   "language": "python",
   "name": "python3"
  },
  "language_info": {
   "codemirror_mode": {
    "name": "ipython",
    "version": 3
   },
   "file_extension": ".py",
   "mimetype": "text/x-python",
   "name": "python",
   "nbconvert_exporter": "python",
   "pygments_lexer": "ipython3",
   "version": "3.10.4"
  }
 },
 "nbformat": 4,
 "nbformat_minor": 5
}
